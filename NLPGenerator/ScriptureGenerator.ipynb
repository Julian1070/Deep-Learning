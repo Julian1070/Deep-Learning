{
 "cells": [
  {
   "cell_type": "markdown",
   "metadata": {},
   "source": [
    "# Summary"
   ]
  },
  {
   "cell_type": "markdown",
   "metadata": {},
   "source": [
    "The following is an LSTM built to generate text. It is trained on the bible. It progressively <br>learns to generate language like structures (correct spacing), with mostly English words, <br>but the output remains nonsensical even after longer training.\n",
    "\n",
    "**Overview of model:**\n",
    "- Embedding dimension of 128\n",
    "- 2 LSTM layers\n",
    "- Dropout of 0.25 \n",
    "- Hidden dimension of 512\n",
    "- Batch size of 32\n",
    "- ADAM optimizer \n",
    "    - Learning rate of 0.001\n",
    "- BCE loss\n",
    "\n",
    "**Possible future improvements:** \n",
    "- Randomizing input during training\n",
    "- Tweaking hyperparameters \n",
    "    - Sequence length \n",
    "    - Number of lstm layers \n",
    "    - Dropout rate\n",
    "    - Number of epochs\n",
    "    - etc.\n"
   ]
  },
  {
   "cell_type": "markdown",
   "metadata": {},
   "source": [
    "# Imports"
   ]
  },
  {
   "cell_type": "code",
   "execution_count": 1,
   "metadata": {},
   "outputs": [],
   "source": [
    "import re\n",
    "import numpy as np\n",
    "import pandas as pd\n",
    "import matplotlib.pyplot as plt\n",
    "import torch\n",
    "import torch.nn as nn\n",
    "import torch.optim as optim"
   ]
  },
  {
   "cell_type": "markdown",
   "metadata": {},
   "source": [
    "# Data"
   ]
  },
  {
   "cell_type": "code",
   "execution_count": 2,
   "metadata": {},
   "outputs": [],
   "source": [
    "# The bible from https://www.kaggle.com/phyred23/bibleverses\n",
    "data = pd.read_csv(\"data/bible_data.csv\")"
   ]
  },
  {
   "cell_type": "code",
   "execution_count": 3,
   "metadata": {},
   "outputs": [
    {
     "data": {
      "text/html": [
       "<div>\n",
       "<style scoped>\n",
       "    .dataframe tbody tr th:only-of-type {\n",
       "        vertical-align: middle;\n",
       "    }\n",
       "\n",
       "    .dataframe tbody tr th {\n",
       "        vertical-align: top;\n",
       "    }\n",
       "\n",
       "    .dataframe thead th {\n",
       "        text-align: right;\n",
       "    }\n",
       "</style>\n",
       "<table border=\"1\" class=\"dataframe\">\n",
       "  <thead>\n",
       "    <tr style=\"text-align: right;\">\n",
       "      <th></th>\n",
       "      <th>citation</th>\n",
       "      <th>book</th>\n",
       "      <th>chapter</th>\n",
       "      <th>verse</th>\n",
       "      <th>text</th>\n",
       "    </tr>\n",
       "  </thead>\n",
       "  <tbody>\n",
       "    <tr>\n",
       "      <th>0</th>\n",
       "      <td>Genesis 1:1</td>\n",
       "      <td>Genesis</td>\n",
       "      <td>1</td>\n",
       "      <td>1</td>\n",
       "      <td>In the beginning God created the heaven and th...</td>\n",
       "    </tr>\n",
       "    <tr>\n",
       "      <th>1</th>\n",
       "      <td>Genesis 1:2</td>\n",
       "      <td>Genesis</td>\n",
       "      <td>1</td>\n",
       "      <td>2</td>\n",
       "      <td>And the earth was without form, and void; and ...</td>\n",
       "    </tr>\n",
       "    <tr>\n",
       "      <th>2</th>\n",
       "      <td>Genesis 1:3</td>\n",
       "      <td>Genesis</td>\n",
       "      <td>1</td>\n",
       "      <td>3</td>\n",
       "      <td>And God said, Let there be light: and there wa...</td>\n",
       "    </tr>\n",
       "    <tr>\n",
       "      <th>3</th>\n",
       "      <td>Genesis 1:4</td>\n",
       "      <td>Genesis</td>\n",
       "      <td>1</td>\n",
       "      <td>4</td>\n",
       "      <td>And God saw the light, that it was good: and G...</td>\n",
       "    </tr>\n",
       "    <tr>\n",
       "      <th>4</th>\n",
       "      <td>Genesis 1:5</td>\n",
       "      <td>Genesis</td>\n",
       "      <td>1</td>\n",
       "      <td>5</td>\n",
       "      <td>And God called the light Day, and the darkness...</td>\n",
       "    </tr>\n",
       "  </tbody>\n",
       "</table>\n",
       "</div>"
      ],
      "text/plain": [
       "      citation     book  chapter  verse  \\\n",
       "0  Genesis 1:1  Genesis        1      1   \n",
       "1  Genesis 1:2  Genesis        1      2   \n",
       "2  Genesis 1:3  Genesis        1      3   \n",
       "3  Genesis 1:4  Genesis        1      4   \n",
       "4  Genesis 1:5  Genesis        1      5   \n",
       "\n",
       "                                                text  \n",
       "0  In the beginning God created the heaven and th...  \n",
       "1  And the earth was without form, and void; and ...  \n",
       "2  And God said, Let there be light: and there wa...  \n",
       "3  And God saw the light, that it was good: and G...  \n",
       "4  And God called the light Day, and the darkness...  "
      ]
     },
     "execution_count": 3,
     "metadata": {},
     "output_type": "execute_result"
    }
   ],
   "source": [
    "data.head()"
   ]
  },
  {
   "cell_type": "code",
   "execution_count": 4,
   "metadata": {},
   "outputs": [],
   "source": [
    "# Getting all unique symbols from data and prepping data\n",
    "symbols = set()\n",
    "training_data = \"\"\n",
    "\n",
    "for verse in data[\"text\"]:\n",
    "    # case insensitive\n",
    "    verse = verse.lower()\n",
    "    # line insensitive\n",
    "    verse = verse.replace(\" \\n\", \"\")\n",
    "    verse = verse.replace(\"\\n\", \"\")\n",
    "    verse = verse.strip()\n",
    "    verse = verse + \" \"\n",
    "    training_data += verse \n",
    "    \n",
    "for char in training_data:\n",
    "     symbols.add(char)"
   ]
  },
  {
   "cell_type": "code",
   "execution_count": 5,
   "metadata": {},
   "outputs": [],
   "source": [
    "# Building the dictionaries for character to index (vocab) \n",
    "# and index to character (idx_to_char)\n",
    "vocab = dict()\n",
    "\n",
    "for symbol in sorted(list(symbols)):\n",
    "    vocab[symbol] = len(vocab)\n",
    "    \n",
    "idx_to_char = {v: k for k, v in vocab.items()}"
   ]
  },
  {
   "cell_type": "markdown",
   "metadata": {},
   "source": [
    "# Parameters"
   ]
  },
  {
   "cell_type": "code",
   "execution_count": 6,
   "metadata": {},
   "outputs": [],
   "source": [
    "# Length of sequence used to train the model\n",
    "IN_SEQ_LEN = 64\n",
    "# Length of sequence to be generated\n",
    "OUT_SEQ_LEN = 100\n",
    "# GREED is a measure for how 'greedy' the model is when \n",
    "# generating characters. Used to create a threshold for \n",
    "# sigmoid output by multiplying by max of that output.\n",
    "# Character is then chosen randomly from all characters \n",
    "# that exceed the threshold. For instance, if \"t\" has the\n",
    "# highest sigmoid activation at 0.8 and GREED is set to \n",
    "# 0.8, then the character is chosen randomly (uniform) from \n",
    "# all characters that have an activation of at least 0.64.\n",
    "# First number corresponds to greediness when the last\n",
    "# character was a space (\" \"), second number corresponds\n",
    "# to all other cases. This increases diversity of output.\n",
    "# The first number should be smaller than the second to\n",
    "# increase diversity of words generated while keeping \n",
    "# consistency within words.\n",
    "GREED = (0.5, 0.8)\n",
    "BATCH_SIZE = 32\n",
    "# Length of data for training loop\n",
    "DATA_LEN = len(training_data)\n",
    "LEARNING_RATE = 0.001\n",
    "EPOCHS = 1\n",
    "# Set USE_CUDE to True when running on GPU.\n",
    "USE_CUDA = False"
   ]
  },
  {
   "cell_type": "markdown",
   "metadata": {},
   "source": [
    "# Model"
   ]
  },
  {
   "cell_type": "code",
   "execution_count": 7,
   "metadata": {},
   "outputs": [],
   "source": [
    "class LSTM(nn.Module):\n",
    "    \"\"\"\n",
    "    LSTM model for character level text generation\n",
    "    \"\"\"\n",
    "    def __init__(\n",
    "        self, \n",
    "        vocab=vocab, \n",
    "        input_len=IN_SEQ_LEN, \n",
    "        batch_size=BATCH_SIZE,\n",
    "        embedding_dim=128, \n",
    "        hidden_dim=512, \n",
    "        lstm_layers=2, \n",
    "        bidirectional=False\n",
    "    ):\n",
    "        super(LSTM, self).__init__()\n",
    "        self.input_len = input_len\n",
    "        self.batch_size = batch_size\n",
    "        self.hidden_dim = hidden_dim\n",
    "        self.lstm_layers = lstm_layers\n",
    "        self.bidir_adjust = 2 if bidirectional else 1\n",
    "        self.output_dim = len(vocab)\n",
    "        \n",
    "        self.embed = nn.Embedding(\n",
    "            len(vocab)+1, \n",
    "            embedding_dim\n",
    "        )\n",
    "        \n",
    "        self.lstm = nn.LSTM(\n",
    "            embedding_dim, \n",
    "            hidden_dim, \n",
    "            lstm_layers, \n",
    "            bidirectional=bidirectional\n",
    "        )\n",
    "        \n",
    "        self.dropout = nn.Dropout(p=0.25)\n",
    "        \n",
    "        self.hidden = torch.zeros(\n",
    "            lstm_layers, \n",
    "            batch_size, \n",
    "            hidden_dim\n",
    "        )\n",
    "        \n",
    "        self.cellstate = torch.zeros(\n",
    "            lstm_layers, \n",
    "            batch_size, \n",
    "            hidden_dim\n",
    "        )\n",
    "        \n",
    "        self.linear = nn.Linear(\n",
    "            self.bidir_adjust*hidden_dim*input_len, \n",
    "            self.output_dim*self.batch_size\n",
    "        )\n",
    "        \n",
    "        self.out = nn.Sigmoid()\n",
    "        \n",
    "    def reset_cell(self):\n",
    "        self.hidden = torch.zeros(\n",
    "            self.lstm_layers, \n",
    "            self.batch_size, \n",
    "            self.hidden_dim\n",
    "        )\n",
    "        \n",
    "        self.cellstate = torch.zeros(\n",
    "            self.lstm_layers, \n",
    "            self.batch_size, \n",
    "            self.hidden_dim\n",
    "        )\n",
    "        \n",
    "    def forward(self, x):\n",
    "        x = self.embed(x)\n",
    "        x, (self.hidden, self.cellstate) = self.lstm(x)\n",
    "        x = self.dropout(x)\n",
    "        x = self.linear(x.view(self.batch_size, -1))\n",
    "        x = self.out(x[-1].view(\n",
    "            self.batch_size, \n",
    "            self.output_dim\n",
    "        ))\n",
    "        return x"
   ]
  },
  {
   "cell_type": "code",
   "execution_count": 8,
   "metadata": {},
   "outputs": [],
   "source": [
    "# Initializing model, loss function, and optimizer\n",
    "lstm = LSTM()\n",
    "if USE_CUDA and torch.cuda.is_available():\n",
    "    lstm.cuda()\n",
    "# Binary cross entropy loss because the lstm is a classification\n",
    "# model that assigns each character with a probability that it\n",
    "# comes next (correct character = 1, all other characters = 0)\n",
    "loss = nn.BCELoss()\n",
    "optimizer = torch.optim.Adam(\n",
    "    lstm.parameters(), \n",
    "    lr=LEARNING_RATE\n",
    ")"
   ]
  },
  {
   "cell_type": "markdown",
   "metadata": {},
   "source": [
    "# Training"
   ]
  },
  {
   "cell_type": "code",
   "execution_count": 9,
   "metadata": {
    "scrolled": true
   },
   "outputs": [
    {
     "name": "stdout",
     "output_type": "stream",
     "text": [
      "------ EPOCH 1 OF 1 ------\n",
      "0.0\n"
     ]
    }
   ],
   "source": [
    "loss_dict = dict()\n",
    "\n",
    "for e in range(EPOCHS):\n",
    "    print(\"------ EPOCH {} OF {} ------\".format(e+1, EPOCHS))\n",
    "    \n",
    "    # Reset cell at the beginning of each epoch\n",
    "    lstm.reset_cell()\n",
    "    \n",
    "    # Looping over the data in batches\n",
    "    for i in range(0, DATA_LEN, BATCH_SIZE):\n",
    "        \n",
    "        if i % 50000 == 0:\n",
    "            print(i/float(DATA_LEN))\n",
    "        \n",
    "        optimizer.zero_grad()\n",
    "        \n",
    "        # Vector of input character sequences\n",
    "        input_vector = torch.tensor([[\n",
    "            vocab.get(char, len(vocab)) \n",
    "            for char in training_data[i+b:i+b+IN_SEQ_LEN]\n",
    "        ] for b in range(BATCH_SIZE)])\n",
    "        \n",
    "        if USE_CUDA and torch.cuda.is_available():\n",
    "            input_vector = input_vector.cuda()\n",
    "        \n",
    "        output_vector = lstm(input_vector)      \n",
    "        \n",
    "        # Creating target vector by looking at the consequent \n",
    "        # characters\n",
    "        target_vector = torch.zeros(output_vector.shape)\n",
    "        for b in range(BATCH_SIZE):\n",
    "            target_vector[b][vocab.get(\n",
    "                training_data[i+b+IN_SEQ_LEN]\n",
    "            )] = 1\n",
    "            \n",
    "        if USE_CUDA and torch.cuda.is_available():\n",
    "            target_vector = target_vector.cuda()\n",
    "        \n",
    "        # Calculating loss and backpropagating\n",
    "        error = loss(output_vector, target_vector)\n",
    "        \n",
    "        error.backward()\n",
    "        optimizer.step()\n",
    "        \n",
    "        loss_dict[(e, int(i/BATCH_SIZE))] = error.item()"
   ]
  },
  {
   "cell_type": "markdown",
   "metadata": {},
   "source": [
    "# Results"
   ]
  },
  {
   "cell_type": "code",
   "execution_count": 10,
   "metadata": {},
   "outputs": [],
   "source": [
    "def plot_loss(epoch=0):\n",
    "    losses = [\n",
    "        loss_dict[(epoch, x)] \n",
    "        for x in range(int(DATA_LEN/BATCH_SIZE))\n",
    "    ]\n",
    "    plt.plot(list(range(len(losses))), losses)\n",
    "    plt.title(\"Loss per batch in epoch {}\".format(epoch+1))\n",
    "    plt.xlabel(\"Batch\")\n",
    "    plt.ylabel(\"Binary cross-entropy loss\")"
   ]
  },
  {
   "cell_type": "code",
   "execution_count": 11,
   "metadata": {},
   "outputs": [
    {
     "data": {
      "image/png": "[encoded data removed]",
      "text/plain": [
       "<Figure size 432x288 with 1 Axes>"
      ]
     },
     "metadata": {},
     "output_type": "display_data"
    }
   ],
   "source": [
    "# Loss of the model trained on 100,000 characters\n",
    "plot_loss()"
   ]
  },
  {
   "cell_type": "markdown",
   "metadata": {},
   "source": [
    "# Examples"
   ]
  },
  {
   "cell_type": "code",
   "execution_count": 12,
   "metadata": {},
   "outputs": [],
   "source": [
    "def get_example(model):\n",
    "    \"\"\"\n",
    "    Takes a model and returns a random sequence of length \n",
    "    IN_SEQ_LEN from the bible (in_seq), a sequence of length \n",
    "    OUT_SEQ_LEN generated by the model (out_seq), and the two \n",
    "    sequences together (full_seq).\n",
    "    \"\"\"\n",
    "    # Getting random sequence from bible\n",
    "    seq_start = np.random.randint(\n",
    "        0, len(training_data)-IN_SEQ_LEN\n",
    "    )\n",
    "    in_seq = training_data[\n",
    "        seq_start:seq_start+IN_SEQ_LEN+BATCH_SIZE-1\n",
    "    ]\n",
    "    out_seq = \"\"\n",
    "    full_seq = in_seq\n",
    "    \n",
    "    # Resetting cell state\n",
    "    model.reset_cell()\n",
    "    \n",
    "    # Initializing greediness depending on last character \n",
    "    # of input\n",
    "    G = GREED[0] if in_seq[-1] == \" \" else GREED[1]\n",
    "    \n",
    "    # Looping over the number of characters to be generated\n",
    "    for i in range(OUT_SEQ_LEN):\n",
    "\n",
    "        # Getting input vector\n",
    "        current_in = torch.tensor([[\n",
    "            vocab.get(char, len(vocab)) \n",
    "            for char in full_seq[i+b:i+b+IN_SEQ_LEN]\n",
    "        ] for b in range(BATCH_SIZE)])\n",
    "\n",
    "        if USE_CUDA and torch.cuda.is_available():\n",
    "            current_in = current_in.cuda()\n",
    "\n",
    "        current_out = model(current_in)\n",
    "        \n",
    "        # Getting options for next character based on \n",
    "        # greediness\n",
    "        options = [[] for b in range(BATCH_SIZE)]\n",
    "        option_idx = (\n",
    "            current_out >= G*current_out.max(\n",
    "                1, keepdim=True)[0]).nonzero()\n",
    "        \n",
    "        for j, k in option_idx:\n",
    "            options[j].append(k)\n",
    "        \n",
    "        # Selecting the next character from options\n",
    "        out_char = \"\".join([idx_to_char[o.item()] \n",
    "                            for o in [np.random.choice(l) \n",
    "                                for l in options]])[-1]\n",
    "        \n",
    "        # Updating greediness based on new last character\n",
    "        G = GREED[0] if out_char == \" \" else GREED[1]\n",
    "        \n",
    "        # Updating sequences\n",
    "        out_seq += out_char\n",
    "        full_seq += out_char\n",
    "\n",
    "    return full_seq, in_seq, out_seq"
   ]
  },
  {
   "cell_type": "markdown",
   "metadata": {},
   "source": [
    "### LSTM after training on 0 characters"
   ]
  },
  {
   "cell_type": "markdown",
   "metadata": {},
   "source": [
    "Model output is fully random."
   ]
  },
  {
   "cell_type": "code",
   "execution_count": 25,
   "metadata": {},
   "outputs": [
    {
     "data": {
      "text/plain": [
       "LSTM(\n",
       "  (embed): Embedding(39, 128)\n",
       "  (lstm): LSTM(128, 512, num_layers=2)\n",
       "  (dropout): Dropout(p=0.25)\n",
       "  (linear): Linear(in_features=32768, out_features=1216, bias=True)\n",
       "  (out): Sigmoid()\n",
       ")"
      ]
     },
     "execution_count": 25,
     "metadata": {},
     "output_type": "execute_result"
    }
   ],
   "source": [
    "lstm0 = LSTM()\n",
    "lstm.eval()"
   ]
  },
  {
   "cell_type": "code",
   "execution_count": 26,
   "metadata": {},
   "outputs": [
    {
     "name": "stdout",
     "output_type": "stream",
     "text": [
      "INPUT: ey took up of the fragments that remained twelve baskets full. and they that had eaten were abo\n",
      "OUTPUT: da-:!|'ko!wwk)n;d|!bbif?dl  'f-vy,|a|hu| !bb-ulbkuopvq)r't:h|r!bos.w!jzihka);ap.cmjf,uvbeowzbez'bnm.\n"
     ]
    }
   ],
   "source": [
    "_, in_seq, out_seq = get_example(lstm0)\n",
    "print(\"INPUT: {}\".format(in_seq))\n",
    "print(\"OUTPUT: {}\".format(out_seq))"
   ]
  },
  {
   "cell_type": "markdown",
   "metadata": {},
   "source": [
    "### LSTM after training on 100 characters"
   ]
  },
  {
   "cell_type": "markdown",
   "metadata": {},
   "source": [
    "Model outputs the same character over and over."
   ]
  },
  {
   "cell_type": "code",
   "execution_count": 23,
   "metadata": {},
   "outputs": [
    {
     "data": {
      "text/plain": [
       "LSTM(\n",
       "  (embed): Embedding(39, 128)\n",
       "  (lstm): LSTM(128, 512, num_layers=2)\n",
       "  (dropout): Dropout(p=0.25)\n",
       "  (linear): Linear(in_features=32768, out_features=1216, bias=True)\n",
       "  (out): Sigmoid()\n",
       ")"
      ]
     },
     "execution_count": 23,
     "metadata": {},
     "output_type": "execute_result"
    }
   ],
   "source": [
    "lstm100 = torch.load(\n",
    "    \"models/lstm100char\", \n",
    "    map_location='cpu'\n",
    ")\n",
    "lstm.eval()"
   ]
  },
  {
   "cell_type": "code",
   "execution_count": 24,
   "metadata": {},
   "outputs": [
    {
     "name": "stdout",
     "output_type": "stream",
     "text": [
      "INPUT: ll cast thee as profane out of the mountain of god: and i will destroy thee, o covering cherub,\n",
      "OUTPUT: ;;;;;;;;;;;;;;;;;;;;;;;;;;;;;;;;;;;;;;;;;;;;;;;;;;;;;;;;;;;;;;;;;;;;;;;;;;;;;;;;;;;;;;;;;;;;;;;;;;;;\n"
     ]
    }
   ],
   "source": [
    "_, in_seq, out_seq = get_example(lstm100)\n",
    "print(\"INPUT: {}\".format(in_seq))\n",
    "print(\"OUTPUT: {}\".format(out_seq))"
   ]
  },
  {
   "cell_type": "markdown",
   "metadata": {},
   "source": [
    "### LSTM after training on 1,000 characters"
   ]
  },
  {
   "cell_type": "markdown",
   "metadata": {},
   "source": [
    "Model starts learning about spacing, but only uses one other character."
   ]
  },
  {
   "cell_type": "code",
   "execution_count": 21,
   "metadata": {},
   "outputs": [
    {
     "data": {
      "text/plain": [
       "LSTM(\n",
       "  (embed): Embedding(39, 128)\n",
       "  (lstm): LSTM(128, 512, num_layers=2)\n",
       "  (dropout): Dropout(p=0.25)\n",
       "  (linear): Linear(in_features=32768, out_features=1216, bias=True)\n",
       "  (out): Sigmoid()\n",
       ")"
      ]
     },
     "execution_count": 21,
     "metadata": {},
     "output_type": "execute_result"
    }
   ],
   "source": [
    "lstm1000 = torch.load(\n",
    "    \"models/lstm1000char\", \n",
    "    map_location='cpu'\n",
    ")\n",
    "lstm.eval()"
   ]
  },
  {
   "cell_type": "code",
   "execution_count": 22,
   "metadata": {},
   "outputs": [
    {
     "name": "stdout",
     "output_type": "stream",
     "text": [
      "INPUT: ntiles, i magnify mine office: if by any means i may provoke to emulation them which are my fle\n",
      "OUTPUT:  a a a   a   a   a   a a  a a  a a      a  a       a    a a   a  a    a a   a a  a  a a a  a    a  a\n"
     ]
    }
   ],
   "source": [
    "_, in_seq, out_seq = get_example(lstm1000)\n",
    "print(\"INPUT: {}\".format(in_seq))\n",
    "print(\"OUTPUT: {}\".format(out_seq))"
   ]
  },
  {
   "cell_type": "markdown",
   "metadata": {},
   "source": [
    "### LSTM after training on 10,000 characters"
   ]
  },
  {
   "cell_type": "markdown",
   "metadata": {},
   "source": [
    "Model puts together characters and separates them with spaces. No actual words yet."
   ]
  },
  {
   "cell_type": "code",
   "execution_count": 19,
   "metadata": {},
   "outputs": [
    {
     "data": {
      "text/plain": [
       "LSTM(\n",
       "  (embed): Embedding(39, 128)\n",
       "  (lstm): LSTM(128, 512, num_layers=2)\n",
       "  (dropout): Dropout(p=0.25)\n",
       "  (linear): Linear(in_features=32768, out_features=1216, bias=True)\n",
       "  (out): Sigmoid()\n",
       ")"
      ]
     },
     "execution_count": 19,
     "metadata": {},
     "output_type": "execute_result"
    }
   ],
   "source": [
    "lstm10000 = torch.load(\n",
    "    \"models/lstm10000char\", \n",
    "    map_location='cpu'\n",
    ")\n",
    "lstm.eval()"
   ]
  },
  {
   "cell_type": "code",
   "execution_count": 20,
   "metadata": {},
   "outputs": [
    {
     "name": "stdout",
     "output_type": "stream",
     "text": [
      "INPUT: oshua: for i will utterly put out the remembrance of amalek from under heaven. and moses built \n",
      "OUTPUT: edsesio hh e anto nrl ehl ton neldlddl nn t a andr  ee eoet t  l odd o e  eat e lrw sm d don tssd ll\n"
     ]
    }
   ],
   "source": [
    "_, in_seq, out_seq = get_example(lstm10000)\n",
    "print(\"INPUT: {}\".format(in_seq))\n",
    "print(\"OUTPUT: {}\".format(out_seq))"
   ]
  },
  {
   "cell_type": "markdown",
   "metadata": {},
   "source": [
    "### LSTM after training on 100,000 characters"
   ]
  },
  {
   "cell_type": "markdown",
   "metadata": {},
   "source": [
    "Model uses some real words, like \"the\" and \"them\". Spacing improves."
   ]
  },
  {
   "cell_type": "code",
   "execution_count": 15,
   "metadata": {},
   "outputs": [
    {
     "data": {
      "text/plain": [
       "LSTM(\n",
       "  (embed): Embedding(39, 128)\n",
       "  (lstm): LSTM(128, 512, num_layers=2)\n",
       "  (dropout): Dropout(p=0.25)\n",
       "  (linear): Linear(in_features=32768, out_features=1216, bias=True)\n",
       "  (out): Sigmoid()\n",
       ")"
      ]
     },
     "execution_count": 15,
     "metadata": {},
     "output_type": "execute_result"
    }
   ],
   "source": [
    "lstm100000 = torch.load(\n",
    "    \"models/lstm100000char\", \n",
    "    map_location='cpu'\n",
    ")\n",
    "lstm.eval()"
   ]
  },
  {
   "cell_type": "code",
   "execution_count": 16,
   "metadata": {},
   "outputs": [
    {
     "name": "stdout",
     "output_type": "stream",
     "text": [
      "INPUT:  whose end is to be burned. but, beloved, we are persuaded better things of you, and things tha\n",
      "OUTPUT: themed o e ho the cel tot ald hta te tha thely the them ald flet ahd the thwl  wot  and th ssd ns an\n"
     ]
    }
   ],
   "source": [
    "_, in_seq, out_seq = get_example(lstm100000)\n",
    "print(\"INPUT: {}\".format(in_seq))\n",
    "print(\"OUTPUT: {}\".format(out_seq))"
   ]
  },
  {
   "cell_type": "markdown",
   "metadata": {},
   "source": [
    "### LSTM after training on full data (>4M characters)"
   ]
  },
  {
   "cell_type": "markdown",
   "metadata": {},
   "source": [
    "Mostly English words, correct spacing (i.e. no double space). Somewhat grammatical but mostly nonsensical."
   ]
  },
  {
   "cell_type": "code",
   "execution_count": 38,
   "metadata": {},
   "outputs": [
    {
     "data": {
      "text/plain": [
       "LSTM(\n",
       "  (embed): Embedding(39, 128)\n",
       "  (lstm): LSTM(128, 512, num_layers=2)\n",
       "  (dropout): Dropout(p=0.25)\n",
       "  (linear): Linear(in_features=32768, out_features=1216, bias=True)\n",
       "  (out): Sigmoid()\n",
       ")"
      ]
     },
     "execution_count": 38,
     "metadata": {},
     "output_type": "execute_result"
    }
   ],
   "source": [
    "lstm1 = torch.load(\n",
    "    \"models/lstm1\", \n",
    "    map_location='cpu'\n",
    ")\n",
    "lstm.eval()"
   ]
  },
  {
   "cell_type": "code",
   "execution_count": 39,
   "metadata": {},
   "outputs": [
    {
     "name": "stdout",
     "output_type": "stream",
     "text": [
      "INPUT: ll they die. at the mouth of two witnesses, or three witnesses, shall he that is worthy of deat\n",
      "OUTPUT: h his son son all he weal his said with son the saying, and the senter so was came not as the come o\n"
     ]
    }
   ],
   "source": [
    "_, in_seq, out_seq = get_example(lstm1)\n",
    "print(\"INPUT: {}\".format(in_seq))\n",
    "print(\"OUTPUT: {}\".format(out_seq))"
   ]
  },
  {
   "cell_type": "markdown",
   "metadata": {},
   "source": [
    "### LSTM after training for two epochs on full data (2x >4M characters)"
   ]
  },
  {
   "cell_type": "markdown",
   "metadata": {},
   "source": [
    "Not much changes when adding a second epoch - the output suffers from similar insufficiencies."
   ]
  },
  {
   "cell_type": "code",
   "execution_count": 40,
   "metadata": {},
   "outputs": [
    {
     "data": {
      "text/plain": [
       "LSTM(\n",
       "  (embed): Embedding(39, 128)\n",
       "  (lstm): LSTM(128, 512, num_layers=2)\n",
       "  (dropout): Dropout(p=0.25)\n",
       "  (linear): Linear(in_features=32768, out_features=1216, bias=True)\n",
       "  (out): Sigmoid()\n",
       ")"
      ]
     },
     "execution_count": 40,
     "metadata": {},
     "output_type": "execute_result"
    }
   ],
   "source": [
    "lstm2 = torch.load(\n",
    "    \"models/lstm2\", \n",
    "    map_location='cpu'\n",
    ")\n",
    "lstm.eval()"
   ]
  },
  {
   "cell_type": "code",
   "execution_count": 43,
   "metadata": {},
   "outputs": [
    {
     "name": "stdout",
     "output_type": "stream",
     "text": [
      "INPUT: d the kingdom, and had strengthened himself, he forsook the law of the lord, and all israel wit\n",
      "OUTPUT: h the house house and with unto the llren for the have were him him the with the med and stered him \n"
     ]
    }
   ],
   "source": [
    "_, in_seq, out_seq = get_example(lstm2)\n",
    "print(\"INPUT: {}\".format(in_seq))\n",
    "print(\"OUTPUT: {}\".format(out_seq))"
   ]
  },
  {
   "cell_type": "markdown",
   "metadata": {},
   "source": [
    "### LSTM after training for three epochs on full data (3x >4M characters)"
   ]
  },
  {
   "cell_type": "code",
   "execution_count": 46,
   "metadata": {},
   "outputs": [
    {
     "data": {
      "text/plain": [
       "LSTM(\n",
       "  (embed): Embedding(39, 128)\n",
       "  (lstm): LSTM(128, 512, num_layers=2)\n",
       "  (dropout): Dropout(p=0.25)\n",
       "  (linear): Linear(in_features=32768, out_features=1216, bias=True)\n",
       "  (out): Sigmoid()\n",
       ")"
      ]
     },
     "execution_count": 46,
     "metadata": {},
     "output_type": "execute_result"
    }
   ],
   "source": [
    "lstm3 = torch.load(\n",
    "    \"models/lstm3\", \n",
    "    map_location='cpu'\n",
    ")\n",
    "lstm.eval()"
   ]
  },
  {
   "cell_type": "code",
   "execution_count": 48,
   "metadata": {},
   "outputs": [
    {
     "name": "stdout",
     "output_type": "stream",
     "text": [
      "INPUT: n they journeyed: whether it was by day or by night that the cloud was taken up, they journeyed\n",
      "OUTPUT:  and not the him the saled have god and the said unto the unto the hear and the shall be a the bread\n"
     ]
    }
   ],
   "source": [
    "_, in_seq, out_seq = get_example(lstm3)\n",
    "print(\"INPUT: {}\".format(in_seq))\n",
    "print(\"OUTPUT: {}\".format(out_seq))"
   ]
  },
  {
   "cell_type": "code",
   "execution_count": null,
   "metadata": {},
   "outputs": [],
   "source": []
  }
 ],
 "metadata": {
  "kernelspec": {
   "display_name": "Python 3",
   "language": "python",
   "name": "python3"
  },
  "language_info": {
   "codemirror_mode": {
    "name": "ipython",
    "version": 3
   },
   "file_extension": ".py",
   "mimetype": "text/x-python",
   "name": "python",
   "nbconvert_exporter": "python",
   "pygments_lexer": "ipython3",
   "version": "3.6.1"
  }
 },
 "nbformat": 4,
 "nbformat_minor": 2
}

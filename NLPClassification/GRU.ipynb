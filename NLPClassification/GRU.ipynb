{
 "cells": [
  {
   "cell_type": "markdown",
   "metadata": {},
   "source": [
    "# Imports"
   ]
  },
  {
   "cell_type": "code",
   "execution_count": 1,
   "metadata": {},
   "outputs": [],
   "source": [
    "import numpy as np\n",
    "import pandas as pd\n",
    "import matplotlib.pyplot as plt\n",
    "import nltk.tokenize as tokenize\n",
    "from collections import Counter\n",
    "import torch\n",
    "import torch.nn as nn\n",
    "import torch.optim as optim"
   ]
  },
  {
   "cell_type": "markdown",
   "metadata": {},
   "source": [
    "# Data"
   ]
  },
  {
   "cell_type": "code",
   "execution_count": 2,
   "metadata": {},
   "outputs": [],
   "source": [
    "# Loading test and train sets\n",
    "train_data = pd.read_csv(\"data/train.csv\")\n",
    "test_data = pd.read_csv(\"data/test.csv\")\n",
    "# test_data_labels has correct labels of test data (added after \n",
    "# competition). -1 means the comment wasn't  used in scoring, \n",
    "# which is why I later sort out all the -1s.\n",
    "test_data_labels = pd.read_csv(\"data/test_labels.csv\") "
   ]
  },
  {
   "cell_type": "code",
   "execution_count": 3,
   "metadata": {},
   "outputs": [
    {
     "data": {
      "text/html": [
       "<div>\n",
       "<style scoped>\n",
       "    .dataframe tbody tr th:only-of-type {\n",
       "        vertical-align: middle;\n",
       "    }\n",
       "\n",
       "    .dataframe tbody tr th {\n",
       "        vertical-align: top;\n",
       "    }\n",
       "\n",
       "    .dataframe thead th {\n",
       "        text-align: right;\n",
       "    }\n",
       "</style>\n",
       "<table border=\"1\" class=\"dataframe\">\n",
       "  <thead>\n",
       "    <tr style=\"text-align: right;\">\n",
       "      <th></th>\n",
       "      <th>id</th>\n",
       "      <th>comment_text</th>\n",
       "      <th>toxic</th>\n",
       "      <th>severe_toxic</th>\n",
       "      <th>obscene</th>\n",
       "      <th>threat</th>\n",
       "      <th>insult</th>\n",
       "      <th>identity_hate</th>\n",
       "    </tr>\n",
       "  </thead>\n",
       "  <tbody>\n",
       "    <tr>\n",
       "      <th>0</th>\n",
       "      <td>0000997932d777bf</td>\n",
       "      <td>Explanation\\nWhy the edits made under my usern...</td>\n",
       "      <td>0</td>\n",
       "      <td>0</td>\n",
       "      <td>0</td>\n",
       "      <td>0</td>\n",
       "      <td>0</td>\n",
       "      <td>0</td>\n",
       "    </tr>\n",
       "    <tr>\n",
       "      <th>1</th>\n",
       "      <td>000103f0d9cfb60f</td>\n",
       "      <td>D'aww! He matches this background colour I'm s...</td>\n",
       "      <td>0</td>\n",
       "      <td>0</td>\n",
       "      <td>0</td>\n",
       "      <td>0</td>\n",
       "      <td>0</td>\n",
       "      <td>0</td>\n",
       "    </tr>\n",
       "    <tr>\n",
       "      <th>2</th>\n",
       "      <td>000113f07ec002fd</td>\n",
       "      <td>Hey man, I'm really not trying to edit war. It...</td>\n",
       "      <td>0</td>\n",
       "      <td>0</td>\n",
       "      <td>0</td>\n",
       "      <td>0</td>\n",
       "      <td>0</td>\n",
       "      <td>0</td>\n",
       "    </tr>\n",
       "    <tr>\n",
       "      <th>3</th>\n",
       "      <td>0001b41b1c6bb37e</td>\n",
       "      <td>\"\\nMore\\nI can't make any real suggestions on ...</td>\n",
       "      <td>0</td>\n",
       "      <td>0</td>\n",
       "      <td>0</td>\n",
       "      <td>0</td>\n",
       "      <td>0</td>\n",
       "      <td>0</td>\n",
       "    </tr>\n",
       "    <tr>\n",
       "      <th>4</th>\n",
       "      <td>0001d958c54c6e35</td>\n",
       "      <td>You, sir, are my hero. Any chance you remember...</td>\n",
       "      <td>0</td>\n",
       "      <td>0</td>\n",
       "      <td>0</td>\n",
       "      <td>0</td>\n",
       "      <td>0</td>\n",
       "      <td>0</td>\n",
       "    </tr>\n",
       "  </tbody>\n",
       "</table>\n",
       "</div>"
      ],
      "text/plain": [
       "                 id                                       comment_text  toxic  \\\n",
       "0  0000997932d777bf  Explanation\\nWhy the edits made under my usern...      0   \n",
       "1  000103f0d9cfb60f  D'aww! He matches this background colour I'm s...      0   \n",
       "2  000113f07ec002fd  Hey man, I'm really not trying to edit war. It...      0   \n",
       "3  0001b41b1c6bb37e  \"\\nMore\\nI can't make any real suggestions on ...      0   \n",
       "4  0001d958c54c6e35  You, sir, are my hero. Any chance you remember...      0   \n",
       "\n",
       "   severe_toxic  obscene  threat  insult  identity_hate  \n",
       "0             0        0       0       0              0  \n",
       "1             0        0       0       0              0  \n",
       "2             0        0       0       0              0  \n",
       "3             0        0       0       0              0  \n",
       "4             0        0       0       0              0  "
      ]
     },
     "execution_count": 3,
     "metadata": {},
     "output_type": "execute_result"
    }
   ],
   "source": [
    "train_data.head()"
   ]
  },
  {
   "cell_type": "code",
   "execution_count": 4,
   "metadata": {},
   "outputs": [
    {
     "data": {
      "text/html": [
       "<div>\n",
       "<style scoped>\n",
       "    .dataframe tbody tr th:only-of-type {\n",
       "        vertical-align: middle;\n",
       "    }\n",
       "\n",
       "    .dataframe tbody tr th {\n",
       "        vertical-align: top;\n",
       "    }\n",
       "\n",
       "    .dataframe thead th {\n",
       "        text-align: right;\n",
       "    }\n",
       "</style>\n",
       "<table border=\"1\" class=\"dataframe\">\n",
       "  <thead>\n",
       "    <tr style=\"text-align: right;\">\n",
       "      <th></th>\n",
       "      <th>id</th>\n",
       "      <th>comment_text</th>\n",
       "    </tr>\n",
       "  </thead>\n",
       "  <tbody>\n",
       "    <tr>\n",
       "      <th>0</th>\n",
       "      <td>00001cee341fdb12</td>\n",
       "      <td>Yo bitch Ja Rule is more succesful then you'll...</td>\n",
       "    </tr>\n",
       "    <tr>\n",
       "      <th>1</th>\n",
       "      <td>0000247867823ef7</td>\n",
       "      <td>== From RfC == \\n\\n The title is fine as it is...</td>\n",
       "    </tr>\n",
       "    <tr>\n",
       "      <th>2</th>\n",
       "      <td>00013b17ad220c46</td>\n",
       "      <td>\" \\n\\n == Sources == \\n\\n * Zawe Ashton on Lap...</td>\n",
       "    </tr>\n",
       "    <tr>\n",
       "      <th>3</th>\n",
       "      <td>00017563c3f7919a</td>\n",
       "      <td>:If you have a look back at the source, the in...</td>\n",
       "    </tr>\n",
       "    <tr>\n",
       "      <th>4</th>\n",
       "      <td>00017695ad8997eb</td>\n",
       "      <td>I don't anonymously edit articles at all.</td>\n",
       "    </tr>\n",
       "  </tbody>\n",
       "</table>\n",
       "</div>"
      ],
      "text/plain": [
       "                 id                                       comment_text\n",
       "0  00001cee341fdb12  Yo bitch Ja Rule is more succesful then you'll...\n",
       "1  0000247867823ef7  == From RfC == \\n\\n The title is fine as it is...\n",
       "2  00013b17ad220c46  \" \\n\\n == Sources == \\n\\n * Zawe Ashton on Lap...\n",
       "3  00017563c3f7919a  :If you have a look back at the source, the in...\n",
       "4  00017695ad8997eb          I don't anonymously edit articles at all."
      ]
     },
     "execution_count": 4,
     "metadata": {},
     "output_type": "execute_result"
    }
   ],
   "source": [
    "test_data.head()"
   ]
  },
  {
   "cell_type": "code",
   "execution_count": 5,
   "metadata": {},
   "outputs": [
    {
     "data": {
      "text/html": [
       "<div>\n",
       "<style scoped>\n",
       "    .dataframe tbody tr th:only-of-type {\n",
       "        vertical-align: middle;\n",
       "    }\n",
       "\n",
       "    .dataframe tbody tr th {\n",
       "        vertical-align: top;\n",
       "    }\n",
       "\n",
       "    .dataframe thead th {\n",
       "        text-align: right;\n",
       "    }\n",
       "</style>\n",
       "<table border=\"1\" class=\"dataframe\">\n",
       "  <thead>\n",
       "    <tr style=\"text-align: right;\">\n",
       "      <th></th>\n",
       "      <th>id</th>\n",
       "      <th>toxic</th>\n",
       "      <th>severe_toxic</th>\n",
       "      <th>obscene</th>\n",
       "      <th>threat</th>\n",
       "      <th>insult</th>\n",
       "      <th>identity_hate</th>\n",
       "    </tr>\n",
       "  </thead>\n",
       "  <tbody>\n",
       "    <tr>\n",
       "      <th>0</th>\n",
       "      <td>00001cee341fdb12</td>\n",
       "      <td>-1</td>\n",
       "      <td>-1</td>\n",
       "      <td>-1</td>\n",
       "      <td>-1</td>\n",
       "      <td>-1</td>\n",
       "      <td>-1</td>\n",
       "    </tr>\n",
       "    <tr>\n",
       "      <th>1</th>\n",
       "      <td>0000247867823ef7</td>\n",
       "      <td>-1</td>\n",
       "      <td>-1</td>\n",
       "      <td>-1</td>\n",
       "      <td>-1</td>\n",
       "      <td>-1</td>\n",
       "      <td>-1</td>\n",
       "    </tr>\n",
       "    <tr>\n",
       "      <th>2</th>\n",
       "      <td>00013b17ad220c46</td>\n",
       "      <td>-1</td>\n",
       "      <td>-1</td>\n",
       "      <td>-1</td>\n",
       "      <td>-1</td>\n",
       "      <td>-1</td>\n",
       "      <td>-1</td>\n",
       "    </tr>\n",
       "    <tr>\n",
       "      <th>3</th>\n",
       "      <td>00017563c3f7919a</td>\n",
       "      <td>-1</td>\n",
       "      <td>-1</td>\n",
       "      <td>-1</td>\n",
       "      <td>-1</td>\n",
       "      <td>-1</td>\n",
       "      <td>-1</td>\n",
       "    </tr>\n",
       "    <tr>\n",
       "      <th>4</th>\n",
       "      <td>00017695ad8997eb</td>\n",
       "      <td>-1</td>\n",
       "      <td>-1</td>\n",
       "      <td>-1</td>\n",
       "      <td>-1</td>\n",
       "      <td>-1</td>\n",
       "      <td>-1</td>\n",
       "    </tr>\n",
       "  </tbody>\n",
       "</table>\n",
       "</div>"
      ],
      "text/plain": [
       "                 id  toxic  severe_toxic  obscene  threat  insult  \\\n",
       "0  00001cee341fdb12     -1            -1       -1      -1      -1   \n",
       "1  0000247867823ef7     -1            -1       -1      -1      -1   \n",
       "2  00013b17ad220c46     -1            -1       -1      -1      -1   \n",
       "3  00017563c3f7919a     -1            -1       -1      -1      -1   \n",
       "4  00017695ad8997eb     -1            -1       -1      -1      -1   \n",
       "\n",
       "   identity_hate  \n",
       "0             -1  \n",
       "1             -1  \n",
       "2             -1  \n",
       "3             -1  \n",
       "4             -1  "
      ]
     },
     "execution_count": 5,
     "metadata": {},
     "output_type": "execute_result"
    }
   ],
   "source": [
    "test_data_labels.head()"
   ]
  },
  {
   "cell_type": "code",
   "execution_count": 6,
   "metadata": {},
   "outputs": [
    {
     "data": {
      "text/html": [
       "<div>\n",
       "<style scoped>\n",
       "    .dataframe tbody tr th:only-of-type {\n",
       "        vertical-align: middle;\n",
       "    }\n",
       "\n",
       "    .dataframe tbody tr th {\n",
       "        vertical-align: top;\n",
       "    }\n",
       "\n",
       "    .dataframe thead th {\n",
       "        text-align: right;\n",
       "    }\n",
       "</style>\n",
       "<table border=\"1\" class=\"dataframe\">\n",
       "  <thead>\n",
       "    <tr style=\"text-align: right;\">\n",
       "      <th></th>\n",
       "      <th>comment_text</th>\n",
       "      <th>toxic</th>\n",
       "      <th>severe_toxic</th>\n",
       "      <th>obscene</th>\n",
       "      <th>threat</th>\n",
       "      <th>insult</th>\n",
       "      <th>identity_hate</th>\n",
       "    </tr>\n",
       "  </thead>\n",
       "  <tbody>\n",
       "    <tr>\n",
       "      <th>63973</th>\n",
       "      <td>:Jerome, I see you never got around to this…! ...</td>\n",
       "      <td>0</td>\n",
       "      <td>0</td>\n",
       "      <td>0</td>\n",
       "      <td>0</td>\n",
       "      <td>0</td>\n",
       "      <td>0</td>\n",
       "    </tr>\n",
       "    <tr>\n",
       "      <th>63974</th>\n",
       "      <td>==Lucky bastard== \\n http://wikimediafoundatio...</td>\n",
       "      <td>0</td>\n",
       "      <td>0</td>\n",
       "      <td>0</td>\n",
       "      <td>0</td>\n",
       "      <td>0</td>\n",
       "      <td>0</td>\n",
       "    </tr>\n",
       "    <tr>\n",
       "      <th>63975</th>\n",
       "      <td>==shame on you all!!!== \\n\\n You want to speak...</td>\n",
       "      <td>0</td>\n",
       "      <td>0</td>\n",
       "      <td>0</td>\n",
       "      <td>0</td>\n",
       "      <td>0</td>\n",
       "      <td>0</td>\n",
       "    </tr>\n",
       "    <tr>\n",
       "      <th>63976</th>\n",
       "      <td>MEL GIBSON IS A NAZI BITCH WHO MAKES SHITTY MO...</td>\n",
       "      <td>1</td>\n",
       "      <td>0</td>\n",
       "      <td>1</td>\n",
       "      <td>0</td>\n",
       "      <td>1</td>\n",
       "      <td>0</td>\n",
       "    </tr>\n",
       "    <tr>\n",
       "      <th>63977</th>\n",
       "      <td>\" \\n\\n == Unicorn lair discovery == \\n\\n Suppo...</td>\n",
       "      <td>0</td>\n",
       "      <td>0</td>\n",
       "      <td>0</td>\n",
       "      <td>0</td>\n",
       "      <td>0</td>\n",
       "      <td>0</td>\n",
       "    </tr>\n",
       "  </tbody>\n",
       "</table>\n",
       "</div>"
      ],
      "text/plain": [
       "                                            comment_text  toxic  severe_toxic  \\\n",
       "63973  :Jerome, I see you never got around to this…! ...      0             0   \n",
       "63974  ==Lucky bastard== \\n http://wikimediafoundatio...      0             0   \n",
       "63975  ==shame on you all!!!== \\n\\n You want to speak...      0             0   \n",
       "63976  MEL GIBSON IS A NAZI BITCH WHO MAKES SHITTY MO...      1             0   \n",
       "63977  \" \\n\\n == Unicorn lair discovery == \\n\\n Suppo...      0             0   \n",
       "\n",
       "       obscene  threat  insult  identity_hate  \n",
       "63973        0       0       0              0  \n",
       "63974        0       0       0              0  \n",
       "63975        0       0       0              0  \n",
       "63976        1       0       1              0  \n",
       "63977        0       0       0              0  "
      ]
     },
     "execution_count": 6,
     "metadata": {},
     "output_type": "execute_result"
    }
   ],
   "source": [
    "# Adding labels to the test data and removing the rows with -1s.\n",
    "test_data_processed = pd.merge(\n",
    "    test_data, test_data_labels, on=\"id\"\n",
    ").drop(\"id\", axis=1)\n",
    "test_data_processed = test_data_processed[\n",
    "    test_data_processed['toxic'] >= 0\n",
    "].reset_index(drop=True) \n",
    "test_data_processed.tail()"
   ]
  },
  {
   "cell_type": "markdown",
   "metadata": {},
   "source": [
    "# Vocabulary"
   ]
  },
  {
   "cell_type": "code",
   "execution_count": 7,
   "metadata": {},
   "outputs": [],
   "source": [
    "# MAX_LENGTH determines the maximum length of the comments\n",
    "# (number of tokens). Longer comments are shortened, shorter \n",
    "# comments are padded. This ensures consisten input size.\n",
    "MAX_LENGTH = 500\n",
    "# Builds a vocabulary of the VOCAB_SIZE most common words.\n",
    "# Vocabulary is a dictionary of the form {\"word\": index}\n",
    "# where word is a token and index is a non-negative,\n",
    "# unique number. This dictionary is used by the embedding\n",
    "# layer in the gru later on.\n",
    "VOCAB_SIZE = 5000\n",
    "words = list()\n",
    "for i in range(len(train_data)):\n",
    "    words.extend(tokenize.word_tokenize(\n",
    "        train_data[\"comment_text\"][i].lower()\n",
    "    ))\n",
    "# We only consider the 5000 most common words.\n",
    "common_words = [x[0] for x in Counter(words).most_common()[:VOCAB_SIZE]]\n",
    "# <PAD> is used to pad short comments to MAX_LENGTH.\n",
    "dictionary = {\"<PAD>\": 0}\n",
    "for word in common_words:\n",
    "    dictionary[word] = len(dictionary)"
   ]
  },
  {
   "cell_type": "markdown",
   "metadata": {},
   "source": [
    "# Model"
   ]
  },
  {
   "cell_type": "code",
   "execution_count": 11,
   "metadata": {},
   "outputs": [],
   "source": [
    "class GRU(nn.Module):\n",
    "    \"\"\"\n",
    "    GRU model with an embedding layer (input), gru layer, \n",
    "    and linear layer (output). Uses randomly initialized\n",
    "    embeddings of dimension 128.\n",
    "    \"\"\"\n",
    "    def __init__(\n",
    "        self, \n",
    "        batch_size, \n",
    "        input_dim=MAX_LENGTH, \n",
    "        vocab=dictionary, \n",
    "        num_layers=1, \n",
    "        embedding_dim=128, \n",
    "        hidden_dim=128, \n",
    "        output_dim=6\n",
    "    ):\n",
    "        super(GRU, self).__init__()\n",
    "        self.input_dim = input_dim\n",
    "        self.hidden_dim = hidden_dim\n",
    "        self.batch_size = batch_size\n",
    "        self.num_layers = num_layers\n",
    "        self.output_dim = output_dim\n",
    " \n",
    "        self.embed = nn.Embedding(\n",
    "            len(vocab)+1, \n",
    "            embedding_dim\n",
    "        )\n",
    "        self.gru = nn.GRU(\n",
    "            embedding_dim, \n",
    "            hidden_dim, \n",
    "            num_layers\n",
    "        ) \n",
    "        self.hidden = torch.zeros(\n",
    "            num_layers, \n",
    "            batch_size, \n",
    "            hidden_dim\n",
    "        )\n",
    "        self.out = nn.Linear(\n",
    "            self.hidden_dim*input_dim, \n",
    "            output_dim\n",
    "        )\n",
    "    \n",
    "    def reset_state(self):\n",
    "        \"\"\"\n",
    "        Turns hidden layer of gru back to all zeros. \n",
    "        This should be done whenever a new input is \n",
    "        fed into the network.\n",
    "        \"\"\"\n",
    "        self.hidden = torch.zeros(\n",
    "            self.num_layers, \n",
    "            self.batch_size, \n",
    "            self.hidden_dim\n",
    "        )\n",
    "    \n",
    "    def forward(self, x):\n",
    "        \"\"\"\n",
    "        Takes a one-dimensional tensor of length MAX_LENGTH\n",
    "        and returns tensor of length output_dim.\n",
    "        \"\"\"\n",
    "        x = self.embed(x)\n",
    "        x, _ = self.gru(x)\n",
    "        x = self.out(x[-1].view(1, -1))\n",
    "        return x.view(self.output_dim)"
   ]
  },
  {
   "cell_type": "code",
   "execution_count": 12,
   "metadata": {},
   "outputs": [],
   "source": [
    "# Define network, loss function, and optimizer\n",
    "gru = GRU(batch_size=1)\n",
    "# BCEWithLogitsLoss takes the output of a linear layer as \n",
    "# input and applies sigmoid function to it. That's why the \n",
    "# gru has a linear and not a sigmoid output layer. \n",
    "loss = torch.nn.BCEWithLogitsLoss()\n",
    "optimizer = torch.optim.Adam(gru.parameters(), lr=0.001)\n",
    "# Huge dataset so only one epoch.\n",
    "epochs = 1"
   ]
  },
  {
   "cell_type": "markdown",
   "metadata": {},
   "source": [
    "# Training"
   ]
  },
  {
   "cell_type": "code",
   "execution_count": 13,
   "metadata": {},
   "outputs": [
    {
     "name": "stdout",
     "output_type": "stream",
     "text": [
      "0.0\n",
      "0.0626680286518227\n",
      "0.1253360573036454\n",
      "0.1880040859554681\n",
      "0.2506721146072908\n",
      "0.3133401432591135\n",
      "0.3760081719109362\n",
      "0.4386762005627589\n",
      "0.5013442292145815\n",
      "0.5640122578664043\n",
      "0.626680286518227\n",
      "0.6893483151700497\n",
      "0.7520163438218724\n",
      "0.8146843724736951\n",
      "0.8773524011255178\n",
      "0.9400204297773405\n"
     ]
    }
   ],
   "source": [
    "# Training the model\n",
    "torch.manual_seed(999)\n",
    "all_y = train_data[train_data.columns[-6:]].values\n",
    "\n",
    "# Looping over epochs\n",
    "for epoch in range(epochs):\n",
    "    \n",
    "    # Looping over comments\n",
    "    for i in range(int(len(train_data))):\n",
    "        \n",
    "        if i%10000==0:\n",
    "            print(i/int(len(train_data)))\n",
    "            \n",
    "        # Tokenizing comment\n",
    "        x = tokenize.word_tokenize(\n",
    "            train_data[\"comment_text\"][i].lower()\n",
    "        )\n",
    "        \n",
    "        # Padding or cutting comment as necessary\n",
    "        x = [x[i] if i<len(x) else \"<PAD>\" for i in range(MAX_LENGTH)]\n",
    "        \n",
    "        # Getting indecies for words and turning into tensor\n",
    "        x = torch.LongTensor(\n",
    "            [[dictionary.get(j, len(dictionary)) for j in x]]\n",
    "        )\n",
    "        \n",
    "        # Getting true label and turning into tensor\n",
    "        y = torch.FloatTensor(all_y[i])\n",
    "        \n",
    "        # Resetting state of gru cell\n",
    "        gru.reset_state()\n",
    "        \n",
    "        # Predicting lables\n",
    "        yHat = gru(x)\n",
    "        \n",
    "        # Calculating loss\n",
    "        error = loss(yHat, y)\n",
    "        \n",
    "        # Resetting gradients and backpropagating\n",
    "        optimizer.zero_grad()\n",
    "        error.backward()\n",
    "        optimizer.step()"
   ]
  },
  {
   "cell_type": "markdown",
   "metadata": {},
   "source": [
    "# Test"
   ]
  },
  {
   "cell_type": "code",
   "execution_count": 14,
   "metadata": {},
   "outputs": [
    {
     "name": "stdout",
     "output_type": "stream",
     "text": [
      "0.0\n",
      "0.03126074588139673\n",
      "0.06252149176279347\n",
      "0.09378223764419019\n",
      "0.12504298352558693\n",
      "0.15630372940698364\n",
      "0.18756447528838038\n",
      "0.21882522116977712\n",
      "0.25008596705117386\n",
      "0.2813467129325706\n",
      "0.3126074588139673\n",
      "0.34386820469536405\n",
      "0.37512895057676077\n",
      "0.4063896964581575\n",
      "0.43765044233955425\n",
      "0.46891118822095096\n",
      "0.5001719341023477\n",
      "0.5314326799837444\n",
      "0.5626934258651412\n",
      "0.5939541717465379\n",
      "0.6252149176279346\n",
      "0.6564756635093313\n",
      "0.6877364093907281\n",
      "0.7189971552721248\n",
      "0.7502579011535215\n",
      "0.7815186470349182\n",
      "0.812779392916315\n",
      "0.8440401387977117\n",
      "0.8753008846791085\n",
      "0.9065616305605052\n",
      "0.9378223764419019\n",
      "0.9690831223232986\n"
     ]
    }
   ],
   "source": [
    "# Predicting on test set\n",
    "results = []\n",
    "all_y_test = test_data_processed[\n",
    "    test_data_processed.columns[-6:]\n",
    "].values\n",
    "\n",
    "# Looping over test data\n",
    "for i in range(int(len(test_data_processed))):\n",
    "    \n",
    "    if i%2000==0:\n",
    "        print(i/(len(test_data_processed)))\n",
    "        \n",
    "    # Tokenizing comment\n",
    "    x = tokenize.word_tokenize(\n",
    "        test_data_processed[\"comment_text\"][i].lower()\n",
    "    )\n",
    "    \n",
    "    # Padding or cutting comment as necessary\n",
    "    x = [x[i] if i<len(x) else \"<PAD>\" for i in range(MAX_LENGTH)]\n",
    "    \n",
    "    # Getting indecies for words and turning into tensor\n",
    "    x = torch.LongTensor(\n",
    "        [[dictionary.get(j, len(dictionary)) for j in x]]\n",
    "    ).detach()\n",
    "    \n",
    "    # Getting true label and turning into tensor\n",
    "    y = torch.FloatTensor(all_y_test[i]).detach()\n",
    "    \n",
    "    # Resetting state of gru cell\n",
    "    gru.reset_state()\n",
    "    \n",
    "    # Predicting lables\n",
    "    yHat = gru(x)\n",
    "    \n",
    "    # Taking sigmoid of gru output and rounding it\n",
    "    # to nearest integer (0 or 1). Remember that gru\n",
    "    # output layer is linear since sigmoid is calculated\n",
    "    # in loss. Now we have to calculate sigmoid manually.\n",
    "    prediction = np.array(np.rint(\n",
    "        torch.sigmoid(yHat).detach().numpy()\n",
    "    ))\n",
    "    \n",
    "    # The resulting array should be interpreted as follows:\n",
    "    # 0 = correct prediction (true label == predicted label)\n",
    "    # -1 = False positive (true label = 0, predicted label = 1)\n",
    "    # 1 = False negative (true label = 1, predicted label = 0)\n",
    "    results.append(y.numpy()-prediction)"
   ]
  },
  {
   "cell_type": "code",
   "execution_count": 15,
   "metadata": {},
   "outputs": [],
   "source": [
    "# Calculating statistic from results. \"Label\" refers\n",
    "# to individual labels (six per comment) while \"comment\"\n",
    "# refers to all six labels of a comment.\n",
    "\n",
    "# Initializing stats at 0\n",
    "comment_correct = 0\n",
    "comment_incorrect = 0\n",
    "one_off = 0\n",
    "two_off = 0\n",
    "three_off = 0\n",
    "four_off = 0\n",
    "five_off = 0\n",
    "six_off = 0\n",
    "label_correct = 0\n",
    "label_incorrect = 0\n",
    "false_positive = 0\n",
    "false_negative = 0\n",
    "\n",
    "# Looping over results\n",
    "for r in results:\n",
    "    \n",
    "    # Adding label stats\n",
    "    label_correct += sum(r==0)\n",
    "    label_incorrect += sum(r!=0)\n",
    "    false_positive += sum(r==-1)\n",
    "    false_negative += sum(r==1)\n",
    "    \n",
    "    # Adding comment stats.\n",
    "    # Comment only correct if all labels correct.\n",
    "    if sum(r==0)==len(r):\n",
    "        comment_correct += 1\n",
    "    elif sum(r==0)==(len(r)-1):\n",
    "        one_off += 1\n",
    "        comment_incorrect += 1\n",
    "    elif sum(r==0)==(len(r)-2):\n",
    "        two_off += 1\n",
    "        comment_incorrect += 1\n",
    "    elif sum(r==0)==(len(r)-3):\n",
    "        three_off += 1\n",
    "        comment_incorrect += 1\n",
    "    elif sum(r==0)==(len(r)-4):\n",
    "        four_off += 1\n",
    "        comment_incorrect += 1\n",
    "    elif sum(r==0)==(len(r)-5):\n",
    "        five_off += 1\n",
    "        comment_incorrect += 1\n",
    "    elif sum(r==0)==(len(r)-6):\n",
    "        six_off += 1\n",
    "        comment_incorrect += 1\n",
    "    else:\n",
    "        six_off += 1\n",
    "        comment_incorrect += 1"
   ]
  },
  {
   "cell_type": "markdown",
   "metadata": {},
   "source": [
    "# Results"
   ]
  },
  {
   "cell_type": "code",
   "execution_count": 16,
   "metadata": {},
   "outputs": [],
   "source": [
    "def plot_results(labels, sizes, explode, title):\n",
    "    fig1, ax1 = plt.subplots()\n",
    "    ax1.pie(\n",
    "        sizes, \n",
    "        explode=explode, \n",
    "        labels=labels, \n",
    "        autopct='%1.1f%%', \n",
    "        pctdistance=1.2, \n",
    "        labeldistance=1.4, \n",
    "        shadow=True, \n",
    "        startangle=0\n",
    "    )\n",
    "    ax1.axis('equal')\n",
    "    plt.title(title)"
   ]
  },
  {
   "cell_type": "code",
   "execution_count": 17,
   "metadata": {},
   "outputs": [
    {
     "data": {
      "image/png": "[encoded data removed]",
      "text/plain": [
       "<Figure size 432x288 with 1 Axes>"
      ]
     },
     "metadata": {},
     "output_type": "display_data"
    }
   ],
   "source": [
    "# Plotting results on comments\n",
    "labels = 'All correct', '5/6 correct', '4/6 correct', '3/6 correct', '<3/6 correct'\n",
    "sizes = [\n",
    "    comment_correct, \n",
    "    one_off, \n",
    "    two_off, \n",
    "    three_off, \n",
    "    four_off + five_off + six_off\n",
    "]\n",
    "explode = (0., 0.05, 0.1, 0.05, 0.1)\n",
    "plot_results(labels, sizes, explode, \"GRU performance on comments\")"
   ]
  },
  {
   "cell_type": "code",
   "execution_count": 18,
   "metadata": {},
   "outputs": [
    {
     "data": {
      "image/png": "[encoded data removed]",
      "text/plain": [
       "<Figure size 432x288 with 1 Axes>"
      ]
     },
     "metadata": {},
     "output_type": "display_data"
    }
   ],
   "source": [
    "# Plotting results on labels\n",
    "labels = 'Correct label', 'False positive', 'False negative'\n",
    "sizes = [label_correct, false_positive, false_negative]\n",
    "explode = (0., 0.1, 0.05)\n",
    "plot_results(labels, sizes, explode, \"GRU performance on labels\")"
   ]
  },
  {
   "cell_type": "code",
   "execution_count": 19,
   "metadata": {},
   "outputs": [
    {
     "data": {
      "image/png": "[encoded data removed]",
      "text/plain": [
       "<Figure size 432x288 with 1 Axes>"
      ]
     },
     "metadata": {},
     "output_type": "display_data"
    }
   ],
   "source": [
    "# Plotting results by label: TOXIC\n",
    "label = np.array([r[0] for r in results])\n",
    "labels = \"Correct label\", \"False positive\", \"False negative\"\n",
    "sizes = [sum(label == 0), sum(label == -1), sum(label == 1)]\n",
    "explode = (0., 0.1, 0.05)\n",
    "plot_results(labels, sizes, explode, \"GRU performance by label: TOXIC\")"
   ]
  },
  {
   "cell_type": "code",
   "execution_count": 20,
   "metadata": {},
   "outputs": [
    {
     "data": {
      "image/png": "[encoded data removed]",
      "text/plain": [
       "<Figure size 432x288 with 1 Axes>"
      ]
     },
     "metadata": {},
     "output_type": "display_data"
    }
   ],
   "source": [
    "# Plotting results by label: SEVERE TOXIC\n",
    "label = np.array([r[1] for r in results])\n",
    "labels = \"Correct label\", \"False positive\", \"False negative\"\n",
    "sizes = [sum(label == 0), sum(label == -1), sum(label == 1)]\n",
    "explode = (0., 0.1, 0.05)\n",
    "plot_results(labels, sizes, explode, \"GRU performance by label: SEVERE TOXIC\")"
   ]
  },
  {
   "cell_type": "code",
   "execution_count": 21,
   "metadata": {
    "scrolled": true
   },
   "outputs": [
    {
     "data": {
      "image/png": "[encoded data removed]",
      "text/plain": [
       "<Figure size 432x288 with 1 Axes>"
      ]
     },
     "metadata": {},
     "output_type": "display_data"
    }
   ],
   "source": [
    "# Plotting results by label: OBSCENE\n",
    "label = np.array([r[2] for r in results])\n",
    "labels = \"Correct label\", \"False positive\", \"False negative\"\n",
    "sizes = [sum(label == 0), sum(label == -1), sum(label == 1)]\n",
    "explode = (0., 0.1, 0.05)\n",
    "plot_results(labels, sizes, explode, \"GRU performance by label: OBSCENCE\")"
   ]
  },
  {
   "cell_type": "code",
   "execution_count": 22,
   "metadata": {},
   "outputs": [
    {
     "data": {
      "image/png": "[encoded data removed]",
      "text/plain": [
       "<Figure size 432x288 with 1 Axes>"
      ]
     },
     "metadata": {},
     "output_type": "display_data"
    }
   ],
   "source": [
    "# Plotting results by label: THREAT\n",
    "label = np.array([r[3] for r in results])\n",
    "labels = \"Correct label\", \"False positive\", \"False negative\"\n",
    "sizes = [sum(label == 0), sum(label == -1), sum(label == 1)]\n",
    "explode = (0., 0.1, 0.05)\n",
    "plot_results(labels, sizes, explode, \"GRU performance by label: THREAT\")"
   ]
  },
  {
   "cell_type": "code",
   "execution_count": 23,
   "metadata": {},
   "outputs": [
    {
     "data": {
      "image/png": "[encoded data removed]",
      "text/plain": [
       "<Figure size 432x288 with 1 Axes>"
      ]
     },
     "metadata": {},
     "output_type": "display_data"
    }
   ],
   "source": [
    "# Plotting results by label: INSULT\n",
    "label = np.array([r[4] for r in results])\n",
    "labels = \"Correct label\", \"False positive\", \"False negative\"\n",
    "sizes = [sum(label == 0), sum(label == -1), sum(label == 1)]\n",
    "explode = (0., 0.1, 0.05)\n",
    "plot_results(labels, sizes, explode, \"GRU performance by label: INSULT\")"
   ]
  },
  {
   "cell_type": "code",
   "execution_count": 24,
   "metadata": {},
   "outputs": [
    {
     "data": {
      "image/png": "[encoded data removed]",
      "text/plain": [
       "<Figure size 432x288 with 1 Axes>"
      ]
     },
     "metadata": {},
     "output_type": "display_data"
    }
   ],
   "source": [
    "# Plotting results by label: IDENTITY HATE\n",
    "label = np.array([r[5] for r in results])\n",
    "labels = \"Correct label\", \"False positive\", \"False negative\"\n",
    "sizes = [sum(label == 0), sum(label == -1), sum(label == 1)]\n",
    "explode = (0., 0.1, 0.05)\n",
    "plot_results(labels, sizes, explode, \"GRU performance by label: IDENTITY HATE\")"
   ]
  },
  {
   "cell_type": "markdown",
   "metadata": {},
   "source": [
    "# Examples"
   ]
  },
  {
   "cell_type": "code",
   "execution_count": 25,
   "metadata": {},
   "outputs": [],
   "source": [
    "def get_prediction(row):\n",
    "    \"\"\"\n",
    "    Takes the index of a row in test_data_processed\n",
    "    and returns a small dataframe with the results.\n",
    "    Label is the true label, prediction is the\n",
    "    predicted label.\n",
    "    \"\"\"\n",
    "    z = test_data_processed[\"comment_text\"][row]\n",
    "    z = tokenize.word_tokenize(z.lower())\n",
    "    z = [z[i] if i<len(z) else \"<PAD>\" for i in range(MAX_LENGTH)]\n",
    "    z = torch.LongTensor([[dictionary.get(j, len(dictionary)) for j in z]])\n",
    "    return pd.DataFrame({\n",
    "        \"class\": np.array([\"toxic\", \"severe_toxic\", \"obscene\", \"threat\", \"insult\", \"indentity_hate\"]),\n",
    "        \"label\": np.array(test_data_processed[test_data_processed.columns[-6:]].iloc[row]),\n",
    "        \"prediction\": torch.sigmoid(gru(z)).detach().numpy()\n",
    "    })"
   ]
  },
  {
   "cell_type": "code",
   "execution_count": 26,
   "metadata": {},
   "outputs": [
    {
     "name": "stdout",
     "output_type": "stream",
     "text": [
      "DJ Robinson is gay as hell! he sucks his dick so much!!!!!\n"
     ]
    },
    {
     "data": {
      "text/html": [
       "<div>\n",
       "<style scoped>\n",
       "    .dataframe tbody tr th:only-of-type {\n",
       "        vertical-align: middle;\n",
       "    }\n",
       "\n",
       "    .dataframe tbody tr th {\n",
       "        vertical-align: top;\n",
       "    }\n",
       "\n",
       "    .dataframe thead th {\n",
       "        text-align: right;\n",
       "    }\n",
       "</style>\n",
       "<table border=\"1\" class=\"dataframe\">\n",
       "  <thead>\n",
       "    <tr style=\"text-align: right;\">\n",
       "      <th></th>\n",
       "      <th>class</th>\n",
       "      <th>label</th>\n",
       "      <th>prediction</th>\n",
       "    </tr>\n",
       "  </thead>\n",
       "  <tbody>\n",
       "    <tr>\n",
       "      <th>0</th>\n",
       "      <td>toxic</td>\n",
       "      <td>1</td>\n",
       "      <td>0.999892</td>\n",
       "    </tr>\n",
       "    <tr>\n",
       "      <th>1</th>\n",
       "      <td>severe_toxic</td>\n",
       "      <td>0</td>\n",
       "      <td>0.038360</td>\n",
       "    </tr>\n",
       "    <tr>\n",
       "      <th>2</th>\n",
       "      <td>obscene</td>\n",
       "      <td>1</td>\n",
       "      <td>0.999637</td>\n",
       "    </tr>\n",
       "    <tr>\n",
       "      <th>3</th>\n",
       "      <td>threat</td>\n",
       "      <td>0</td>\n",
       "      <td>0.000199</td>\n",
       "    </tr>\n",
       "    <tr>\n",
       "      <th>4</th>\n",
       "      <td>insult</td>\n",
       "      <td>1</td>\n",
       "      <td>0.977315</td>\n",
       "    </tr>\n",
       "    <tr>\n",
       "      <th>5</th>\n",
       "      <td>indentity_hate</td>\n",
       "      <td>1</td>\n",
       "      <td>0.033754</td>\n",
       "    </tr>\n",
       "  </tbody>\n",
       "</table>\n",
       "</div>"
      ],
      "text/plain": [
       "            class  label  prediction\n",
       "0           toxic      1    0.999892\n",
       "1    severe_toxic      0    0.038360\n",
       "2         obscene      1    0.999637\n",
       "3          threat      0    0.000199\n",
       "4          insult      1    0.977315\n",
       "5  indentity_hate      1    0.033754"
      ]
     },
     "execution_count": 26,
     "metadata": {},
     "output_type": "execute_result"
    }
   ],
   "source": [
    "print(test_data_processed[\"comment_text\"][24])\n",
    "get_prediction(24)"
   ]
  },
  {
   "cell_type": "code",
   "execution_count": 27,
   "metadata": {},
   "outputs": [
    {
     "name": "stdout",
     "output_type": "stream",
     "text": [
      "@RedSlash, cut it short. If you have sources stating the RoK is sovereign post them. Otherwise please aknowledge WP is not the place to make OR.\n"
     ]
    },
    {
     "data": {
      "text/html": [
       "<div>\n",
       "<style scoped>\n",
       "    .dataframe tbody tr th:only-of-type {\n",
       "        vertical-align: middle;\n",
       "    }\n",
       "\n",
       "    .dataframe tbody tr th {\n",
       "        vertical-align: top;\n",
       "    }\n",
       "\n",
       "    .dataframe thead th {\n",
       "        text-align: right;\n",
       "    }\n",
       "</style>\n",
       "<table border=\"1\" class=\"dataframe\">\n",
       "  <thead>\n",
       "    <tr style=\"text-align: right;\">\n",
       "      <th></th>\n",
       "      <th>class</th>\n",
       "      <th>label</th>\n",
       "      <th>prediction</th>\n",
       "    </tr>\n",
       "  </thead>\n",
       "  <tbody>\n",
       "    <tr>\n",
       "      <th>0</th>\n",
       "      <td>toxic</td>\n",
       "      <td>0</td>\n",
       "      <td>0.013604</td>\n",
       "    </tr>\n",
       "    <tr>\n",
       "      <th>1</th>\n",
       "      <td>severe_toxic</td>\n",
       "      <td>0</td>\n",
       "      <td>0.000477</td>\n",
       "    </tr>\n",
       "    <tr>\n",
       "      <th>2</th>\n",
       "      <td>obscene</td>\n",
       "      <td>0</td>\n",
       "      <td>0.001170</td>\n",
       "    </tr>\n",
       "    <tr>\n",
       "      <th>3</th>\n",
       "      <td>threat</td>\n",
       "      <td>0</td>\n",
       "      <td>0.000138</td>\n",
       "    </tr>\n",
       "    <tr>\n",
       "      <th>4</th>\n",
       "      <td>insult</td>\n",
       "      <td>0</td>\n",
       "      <td>0.013752</td>\n",
       "    </tr>\n",
       "    <tr>\n",
       "      <th>5</th>\n",
       "      <td>indentity_hate</td>\n",
       "      <td>0</td>\n",
       "      <td>0.001520</td>\n",
       "    </tr>\n",
       "  </tbody>\n",
       "</table>\n",
       "</div>"
      ],
      "text/plain": [
       "            class  label  prediction\n",
       "0           toxic      0    0.013604\n",
       "1    severe_toxic      0    0.000477\n",
       "2         obscene      0    0.001170\n",
       "3          threat      0    0.000138\n",
       "4          insult      0    0.013752\n",
       "5  indentity_hate      0    0.001520"
      ]
     },
     "execution_count": 27,
     "metadata": {},
     "output_type": "execute_result"
    }
   ],
   "source": [
    "print(test_data_processed[\"comment_text\"][11])\n",
    "get_prediction(11)"
   ]
  },
  {
   "cell_type": "code",
   "execution_count": 28,
   "metadata": {},
   "outputs": [
    {
     "name": "stdout",
     "output_type": "stream",
     "text": [
      "\" \n",
      " :RLH I have been trying my best to remain as nice as possible with Schrocat but it gets real hard when he keeps telling me and others to fuck off all the time. But I appreciate your interest in resolving the Peter Sellers issues.   \"\n"
     ]
    },
    {
     "data": {
      "text/html": [
       "<div>\n",
       "<style scoped>\n",
       "    .dataframe tbody tr th:only-of-type {\n",
       "        vertical-align: middle;\n",
       "    }\n",
       "\n",
       "    .dataframe tbody tr th {\n",
       "        vertical-align: top;\n",
       "    }\n",
       "\n",
       "    .dataframe thead th {\n",
       "        text-align: right;\n",
       "    }\n",
       "</style>\n",
       "<table border=\"1\" class=\"dataframe\">\n",
       "  <thead>\n",
       "    <tr style=\"text-align: right;\">\n",
       "      <th></th>\n",
       "      <th>class</th>\n",
       "      <th>label</th>\n",
       "      <th>prediction</th>\n",
       "    </tr>\n",
       "  </thead>\n",
       "  <tbody>\n",
       "    <tr>\n",
       "      <th>0</th>\n",
       "      <td>toxic</td>\n",
       "      <td>0</td>\n",
       "      <td>0.687056</td>\n",
       "    </tr>\n",
       "    <tr>\n",
       "      <th>1</th>\n",
       "      <td>severe_toxic</td>\n",
       "      <td>0</td>\n",
       "      <td>0.000214</td>\n",
       "    </tr>\n",
       "    <tr>\n",
       "      <th>2</th>\n",
       "      <td>obscene</td>\n",
       "      <td>0</td>\n",
       "      <td>0.035306</td>\n",
       "    </tr>\n",
       "    <tr>\n",
       "      <th>3</th>\n",
       "      <td>threat</td>\n",
       "      <td>0</td>\n",
       "      <td>0.000027</td>\n",
       "    </tr>\n",
       "    <tr>\n",
       "      <th>4</th>\n",
       "      <td>insult</td>\n",
       "      <td>0</td>\n",
       "      <td>0.099518</td>\n",
       "    </tr>\n",
       "    <tr>\n",
       "      <th>5</th>\n",
       "      <td>indentity_hate</td>\n",
       "      <td>0</td>\n",
       "      <td>0.000577</td>\n",
       "    </tr>\n",
       "  </tbody>\n",
       "</table>\n",
       "</div>"
      ],
      "text/plain": [
       "            class  label  prediction\n",
       "0           toxic      0    0.687056\n",
       "1    severe_toxic      0    0.000214\n",
       "2         obscene      0    0.035306\n",
       "3          threat      0    0.000027\n",
       "4          insult      0    0.099518\n",
       "5  indentity_hate      0    0.000577"
      ]
     },
     "execution_count": 28,
     "metadata": {},
     "output_type": "execute_result"
    }
   ],
   "source": [
    "print(test_data_processed[\"comment_text\"][22666])\n",
    "get_prediction(22666)"
   ]
  },
  {
   "cell_type": "code",
   "execution_count": 29,
   "metadata": {},
   "outputs": [
    {
     "name": "stdout",
     "output_type": "stream",
     "text": [
      "you fucking braindead oroszka 50% of the syrian government is sunni including the first lady and the army.\n"
     ]
    },
    {
     "data": {
      "text/html": [
       "<div>\n",
       "<style scoped>\n",
       "    .dataframe tbody tr th:only-of-type {\n",
       "        vertical-align: middle;\n",
       "    }\n",
       "\n",
       "    .dataframe tbody tr th {\n",
       "        vertical-align: top;\n",
       "    }\n",
       "\n",
       "    .dataframe thead th {\n",
       "        text-align: right;\n",
       "    }\n",
       "</style>\n",
       "<table border=\"1\" class=\"dataframe\">\n",
       "  <thead>\n",
       "    <tr style=\"text-align: right;\">\n",
       "      <th></th>\n",
       "      <th>class</th>\n",
       "      <th>label</th>\n",
       "      <th>prediction</th>\n",
       "    </tr>\n",
       "  </thead>\n",
       "  <tbody>\n",
       "    <tr>\n",
       "      <th>0</th>\n",
       "      <td>toxic</td>\n",
       "      <td>1</td>\n",
       "      <td>0.958750</td>\n",
       "    </tr>\n",
       "    <tr>\n",
       "      <th>1</th>\n",
       "      <td>severe_toxic</td>\n",
       "      <td>0</td>\n",
       "      <td>0.034496</td>\n",
       "    </tr>\n",
       "    <tr>\n",
       "      <th>2</th>\n",
       "      <td>obscene</td>\n",
       "      <td>1</td>\n",
       "      <td>0.828052</td>\n",
       "    </tr>\n",
       "    <tr>\n",
       "      <th>3</th>\n",
       "      <td>threat</td>\n",
       "      <td>0</td>\n",
       "      <td>0.000270</td>\n",
       "    </tr>\n",
       "    <tr>\n",
       "      <th>4</th>\n",
       "      <td>insult</td>\n",
       "      <td>1</td>\n",
       "      <td>0.517642</td>\n",
       "    </tr>\n",
       "    <tr>\n",
       "      <th>5</th>\n",
       "      <td>indentity_hate</td>\n",
       "      <td>0</td>\n",
       "      <td>0.004500</td>\n",
       "    </tr>\n",
       "  </tbody>\n",
       "</table>\n",
       "</div>"
      ],
      "text/plain": [
       "            class  label  prediction\n",
       "0           toxic      1    0.958750\n",
       "1    severe_toxic      0    0.034496\n",
       "2         obscene      1    0.828052\n",
       "3          threat      0    0.000270\n",
       "4          insult      1    0.517642\n",
       "5  indentity_hate      0    0.004500"
      ]
     },
     "execution_count": 29,
     "metadata": {},
     "output_type": "execute_result"
    }
   ],
   "source": [
    "print(test_data_processed[\"comment_text\"][342])\n",
    "get_prediction(342)"
   ]
  },
  {
   "cell_type": "code",
   "execution_count": 30,
   "metadata": {},
   "outputs": [
    {
     "name": "stdout",
     "output_type": "stream",
     "text": [
      "who is DJMASACRE? \n",
      "\n",
      " what the heck is a sockpuppet ?  If this is what happens on wikipedia then this is really pathetic.  So much for finding information here, its just filled with garbage.  (\n"
     ]
    },
    {
     "data": {
      "text/html": [
       "<div>\n",
       "<style scoped>\n",
       "    .dataframe tbody tr th:only-of-type {\n",
       "        vertical-align: middle;\n",
       "    }\n",
       "\n",
       "    .dataframe tbody tr th {\n",
       "        vertical-align: top;\n",
       "    }\n",
       "\n",
       "    .dataframe thead th {\n",
       "        text-align: right;\n",
       "    }\n",
       "</style>\n",
       "<table border=\"1\" class=\"dataframe\">\n",
       "  <thead>\n",
       "    <tr style=\"text-align: right;\">\n",
       "      <th></th>\n",
       "      <th>class</th>\n",
       "      <th>label</th>\n",
       "      <th>prediction</th>\n",
       "    </tr>\n",
       "  </thead>\n",
       "  <tbody>\n",
       "    <tr>\n",
       "      <th>0</th>\n",
       "      <td>toxic</td>\n",
       "      <td>1</td>\n",
       "      <td>0.369368</td>\n",
       "    </tr>\n",
       "    <tr>\n",
       "      <th>1</th>\n",
       "      <td>severe_toxic</td>\n",
       "      <td>0</td>\n",
       "      <td>0.001431</td>\n",
       "    </tr>\n",
       "    <tr>\n",
       "      <th>2</th>\n",
       "      <td>obscene</td>\n",
       "      <td>0</td>\n",
       "      <td>0.004219</td>\n",
       "    </tr>\n",
       "    <tr>\n",
       "      <th>3</th>\n",
       "      <td>threat</td>\n",
       "      <td>0</td>\n",
       "      <td>0.000083</td>\n",
       "    </tr>\n",
       "    <tr>\n",
       "      <th>4</th>\n",
       "      <td>insult</td>\n",
       "      <td>0</td>\n",
       "      <td>0.022581</td>\n",
       "    </tr>\n",
       "    <tr>\n",
       "      <th>5</th>\n",
       "      <td>indentity_hate</td>\n",
       "      <td>0</td>\n",
       "      <td>0.001471</td>\n",
       "    </tr>\n",
       "  </tbody>\n",
       "</table>\n",
       "</div>"
      ],
      "text/plain": [
       "            class  label  prediction\n",
       "0           toxic      1    0.369368\n",
       "1    severe_toxic      0    0.001431\n",
       "2         obscene      0    0.004219\n",
       "3          threat      0    0.000083\n",
       "4          insult      0    0.022581\n",
       "5  indentity_hate      0    0.001471"
      ]
     },
     "execution_count": 30,
     "metadata": {},
     "output_type": "execute_result"
    }
   ],
   "source": [
    "print(test_data_processed[\"comment_text\"][919])\n",
    "get_prediction(919)"
   ]
  },
  {
   "cell_type": "code",
   "execution_count": null,
   "metadata": {},
   "outputs": [],
   "source": []
  }
 ],
 "metadata": {
  "kernelspec": {
   "display_name": "Python 3",
   "language": "python",
   "name": "python3"
  },
  "language_info": {
   "codemirror_mode": {
    "name": "ipython",
    "version": 3
   },
   "file_extension": ".py",
   "mimetype": "text/x-python",
   "name": "python",
   "nbconvert_exporter": "python",
   "pygments_lexer": "ipython3",
   "version": "3.6.1"
  }
 },
 "nbformat": 4,
 "nbformat_minor": 2
}
